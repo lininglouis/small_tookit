{
 "cells": [
  {
   "cell_type": "markdown",
   "metadata": {},
   "source": [
    "# VOC reader"
   ]
  },
  {
   "cell_type": "code",
   "execution_count": 2,
   "metadata": {},
   "outputs": [],
   "source": [
    "import xml.etree.ElementTree as ET\n",
    "\n",
    "\n",
    "def read_xml(xml_file):\n",
    "\n",
    "    tree = ET.parse(xml_file)\n",
    "    root = tree.getroot()\n",
    "\n",
    "    filename = root.find('filename').text\n",
    "    size_elem = root.find('size')\n",
    "    height = int(size_elem.find('height').text) \n",
    "    width = int(size_elem.find('width').text)\n",
    "\n",
    "    objects = []\n",
    "    \n",
    "    for object_elem in root.iter('object'):\n",
    "        ymin, xmin, ymax, xmax = None, None, None, None\n",
    "        obj = {}\n",
    "        obj['label'] = object_elem.find('name').text\n",
    "        list_with_all_boxes = []\n",
    "        for box in object_elem.findall(\"bndbox\"):\n",
    "            ymin = int(box.find(\"ymin\").text)\n",
    "            xmin = int(box.find(\"xmin\").text)\n",
    "            ymax = int(box.find(\"ymax\").text)\n",
    "            xmax = int(box.find(\"xmax\").text)\n",
    "        one_box = [xmin, ymin, xmax, ymax]\n",
    "        list_with_all_boxes.append(one_box)\n",
    "        obj['boxes'] = list_with_all_boxes\n",
    "        objects.append(obj)\n",
    "\n",
    "    return filename, (height, width), objects\n",
    "\n"
   ]
  },
  {
   "cell_type": "code",
   "execution_count": 3,
   "metadata": {},
   "outputs": [],
   "source": [
    "filename, size, objects = read_xml('voc_like_label.xml')"
   ]
  },
  {
   "cell_type": "code",
   "execution_count": null,
   "metadata": {},
   "outputs": [],
   "source": []
  }
 ],
 "metadata": {
  "kernelspec": {
   "display_name": "Python 2",
   "language": "python",
   "name": "python2"
  },
  "language_info": {
   "codemirror_mode": {
    "name": "ipython",
    "version": 2
   },
   "file_extension": ".py",
   "mimetype": "text/x-python",
   "name": "python",
   "nbconvert_exporter": "python",
   "pygments_lexer": "ipython2",
   "version": "2.7.16"
  }
 },
 "nbformat": 4,
 "nbformat_minor": 2
}
